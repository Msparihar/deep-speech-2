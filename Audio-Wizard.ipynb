{
  "cells": [
    {
      "cell_type": "code",
      "execution_count": 1,
      "metadata": {
        "id": "dkK9LUalQ5AI"
      },
      "outputs": [],
      "source": [
        "import tensorflow as tf### models\n",
        "import numpy as np### math computations\n",
        "import matplotlib.pyplot as plt### plotting bar chart\n",
        "import io\n",
        "import os\n",
        "import re\n",
        "import string\n",
        "from tensorflow.keras.models import Model\n",
        "from tensorflow.keras.layers import Layer\n",
        "from tensorflow.keras.layers import (\n",
        "  Embedding,Input,LSTM,Input,Conv2D,Softmax,Dropout,Dense,GRU,\n",
        "  MaxPooling2D,LayerNormalization,Reshape,BatchNormalization,Bidirectional)\n",
        "from tensorflow.keras.optimizers import Adam"
      ]
    },
    {
      "cell_type": "code",
      "execution_count": 2,
      "metadata": {},
      "outputs": [],
      "source": [
        "physical_devices = tf.config.list_physical_devices('GPU')\n",
        "try:\n",
        "  tf.config.experimental.set_memory_growth(physical_devices[0], True)\n",
        "except:\n",
        "  # Invalid device or cannot modify virtual devices once initialized.\n",
        "  print(\"Execution error!\")\n",
        "  pass"
      ]
    },
    {
      "cell_type": "code",
      "execution_count": 3,
      "metadata": {},
      "outputs": [
        {
          "data": {
            "text/plain": [
              "PhysicalDevice(name='/physical_device:GPU:0', device_type='GPU')"
            ]
          },
          "execution_count": 3,
          "metadata": {},
          "output_type": "execute_result"
        }
      ],
      "source": [
        "physical_devices[0]"
      ]
    },
    {
      "cell_type": "code",
      "execution_count": 5,
      "metadata": {},
      "outputs": [],
      "source": [
        "try:\n",
        "  tf.config.experimental.set_memory_growth(physical_devices[0], True)\n",
        "except:\n",
        "  print(\"Execution error!\")\n",
        "  pass"
      ]
    },
    {
      "cell_type": "code",
      "execution_count": 6,
      "metadata": {
        "id": "4Wp_KD-pHhtv"
      },
      "outputs": [],
      "source": [
        "BATCH_SIZE=32\n",
        "LR=0.01\n",
        "FRAME_LENGTH=255\n",
        "FRAME_STEP=128\n",
        "N_EPOCHS=10"
      ]
    },
    {
      "cell_type": "code",
      "execution_count": null,
      "metadata": {},
      "outputs": [],
      "source": [
        "run_opts = tf.RunOptions(report_tensor_allocations_upon_oom = True)"
      ]
    },
    {
      "cell_type": "markdown",
      "metadata": {
        "id": "Hh166fR7Bry6"
      },
      "source": [
        "# Everything Data"
      ]
    },
    {
      "cell_type": "markdown",
      "metadata": {
        "id": "-0jwS_Y-BxVv"
      },
      "source": [
        "## Data Download"
      ]
    },
    {
      "cell_type": "code",
      "execution_count": null,
      "metadata": {
        "colab": {
          "base_uri": "https://localhost:8080/"
        },
        "id": "OCjY9tJPxU2H",
        "outputId": "d6780cdf-ce3b-41de-dea2-3ef5c0bda3e5"
      },
      "outputs": [],
      "source": [
        "!wget https://data.keithito.com/data/speech/LJSpeech-1.1.tar.bz2"
      ]
    },
    {
      "cell_type": "code",
      "execution_count": null,
      "metadata": {
        "id": "E2-u-8yiyRjk"
      },
      "outputs": [],
      "source": [
        "!mkdir \"dataset/\""
      ]
    },
    {
      "cell_type": "code",
      "execution_count": null,
      "metadata": {
        "colab": {
          "base_uri": "https://localhost:8080/"
        },
        "id": "MaIzUCI3xzCU",
        "outputId": "c6d99da6-6b58-4a3a-9cdd-38cca98a8d9e"
      },
      "outputs": [],
      "source": [
        "!tar -xjvf \"LJSpeech-1.1.tar.bz2\" -C \"dataset/\""
      ]
    },
    {
      "cell_type": "markdown",
      "metadata": {
        "id": "7jdu2ewQB0-U"
      },
      "source": [
        "## Data Visualization"
      ]
    },
    {
      "cell_type": "code",
      "execution_count": null,
      "metadata": {
        "colab": {
          "base_uri": "https://localhost:8080/"
        },
        "id": "3wWnOrBu5K-i",
        "outputId": "fbbf2187-bd5f-4030-fa4a-9117baad4ffd"
      },
      "outputs": [],
      "source": [
        "audio_binary=tf.io.read_file(\"dataset/LJSpeech-1.1/wavs/LJ001-0001.wav\")\n",
        "audio,_=tf.audio.decode_wav(audio_binary)\n",
        "waveform=tf.squeeze(audio,axis=-1)\n",
        "waveform=tf.cast(waveform,tf.float32)\n",
        "signal=waveform\n",
        "print(signal.shape)"
      ]
    },
    {
      "cell_type": "code",
      "execution_count": null,
      "metadata": {
        "colab": {
          "base_uri": "https://localhost:8080/",
          "height": 767
        },
        "id": "RhwzE6a15LBG",
        "outputId": "5664fb25-7826-4cb3-8f21-a626bdf92ca2"
      },
      "outputs": [],
      "source": [
        "fig,axis=plt.subplots(4,figsize=(20,10))\n",
        "\n",
        "L=2000\n",
        "x=tf.linspace(-L//2,L//2,L)\n",
        "print(signal.shape)\n",
        "axis[0].plot(signal)\n",
        "axis[0].set_title(\"Input Signal\")\n",
        "\n",
        "fft=tf.signal.rfft(signal)\n",
        "\n",
        "axis[1].plot(tf.abs(fft))\n",
        "axis[1].set_title(\"fft\")\n",
        "\n",
        "\n",
        "spec=tf.signal.stft(signal,frame_length=1024,frame_step=512,)\n",
        "spec=tf.transpose(tf.abs(spec),[1,0])\n",
        "\n",
        "power_spec=np.log(spec)\n",
        "height=power_spec.shape[0]\n",
        "\n",
        "width=power_spec.shape[1]\n",
        "\n",
        "X=np.linspace(0,power_spec.shape[0],num=width,dtype=int)\n",
        "Y=range(height)\n",
        "\n",
        "axis[2].pcolormesh(X,Y,power_spec)\n",
        "axis[2].set_title(\"Spectrogram-1\")\n",
        "\n",
        "\n",
        "spec=tf.signal.stft(signal,frame_length=256,frame_step=128, )\n",
        "spec=tf.transpose(tf.abs(spec),[1,0])\n",
        "\n",
        "power_spec=np.log(spec)\n",
        "height=power_spec.shape[0]\n",
        "\n",
        "width=power_spec.shape[1]\n",
        "\n",
        "X=np.linspace(0,power_spec.shape[0],num=width,dtype=int)\n",
        "Y=range(height)\n",
        "\n",
        "axis[3].pcolormesh(X,Y,power_spec)\n",
        "axis[3].set_title(\"Spectrogram-2\")\n",
        "\n",
        "\n",
        "plt.show()\n"
      ]
    },
    {
      "cell_type": "markdown",
      "metadata": {
        "id": "eXc3q58DB5at"
      },
      "source": [
        "## Data Preparation"
      ]
    },
    {
      "cell_type": "code",
      "execution_count": 7,
      "metadata": {
        "id": "TwWoxnoPuBHx"
      },
      "outputs": [],
      "source": [
        "audio_text={}"
      ]
    },
    {
      "cell_type": "code",
      "execution_count": 8,
      "metadata": {
        "id": "NtpEQqEwuBKa"
      },
      "outputs": [],
      "source": [
        "csv_path=\"dataset/LJSpeech-1.1/metadata.csv\"\n",
        "with open(csv_path, encoding=\"utf-8\") as f:\n",
        "  for line in f:\n",
        "    i=line.strip().split(\"|\")[0]\n",
        "    text=line.strip().split(\"|\")[1]\n",
        "    audio_text[str(i)]=text"
      ]
    },
    {
      "cell_type": "code",
      "execution_count": 9,
      "metadata": {
        "colab": {
          "base_uri": "https://localhost:8080/"
        },
        "id": "vCgVgtoUrLaF",
        "outputId": "5f289f33-ec68-41ad-fa32-d9e6e58f45cf"
      },
      "outputs": [
        {
          "name": "stdout",
          "output_type": "stream",
          "text": [
            "13100\n",
            "13100\n"
          ]
        }
      ],
      "source": [
        "filepaths=[\"dataset/LJSpeech-1.1/wavs/\"+filename+\".wav\" for filename in list(audio_text.keys())]\n",
        "transcriptions=[audio_text[str(filename)].lower() for filename in list(audio_text.keys())]\n",
        "print(len(filepaths))\n",
        "print(len(transcriptions))"
      ]
    },
    {
      "cell_type": "code",
      "execution_count": 10,
      "metadata": {
        "id": "kIjM2As3rS2k"
      },
      "outputs": [],
      "source": [
        "dataset=tf.data.Dataset.from_tensor_slices((filepaths,transcriptions))"
      ]
    },
    {
      "cell_type": "code",
      "execution_count": 11,
      "metadata": {
        "colab": {
          "base_uri": "https://localhost:8080/"
        },
        "id": "jO_16I3qHSd-",
        "outputId": "e827e3ef-aa8e-41fc-dff7-c7c1921eb848"
      },
      "outputs": [
        {
          "name": "stdout",
          "output_type": "stream",
          "text": [
            "(<tf.Tensor: shape=(), dtype=string, numpy=b'dataset/LJSpeech-1.1/wavs/LJ001-0001.wav'>, <tf.Tensor: shape=(), dtype=string, numpy=b'printing, in the only sense with which we are at present concerned, differs from most if not from all the arts and crafts represented in the exhibition'>)\n"
          ]
        }
      ],
      "source": [
        "for i in dataset.take(1):\n",
        "  print(i)"
      ]
    },
    {
      "cell_type": "code",
      "execution_count": 12,
      "metadata": {
        "id": "O7JhZQDiOpUc"
      },
      "outputs": [],
      "source": [
        "def decode_audio(audio_binary):\n",
        "    audio,_=tf.audio.decode_wav(audio_binary)\n",
        "    return tf.squeeze(audio,axis=-1)"
      ]
    },
    {
      "cell_type": "code",
      "execution_count": 13,
      "metadata": {
        "colab": {
          "base_uri": "https://localhost:8080/"
        },
        "id": "oLqZotzeXx-7",
        "outputId": "e7dc95d2-0fac-420f-af40-6eb07e9dfc4e"
      },
      "outputs": [
        {
          "name": "stdout",
          "output_type": "stream",
          "text": [
            "['', 'a', 'b', 'c', 'd', 'e', 'f', 'g', 'h', 'i', 'j', 'k', 'l', 'm', 'n', 'o', 'p', 'q', 'r', 's', 't', 'u', 'v', 'w', 'x', 'y', 'z', '.', ',', '?', ' ']\n",
            "31\n"
          ]
        }
      ],
      "source": [
        "vocabulary=[\"\"]+[chr(i) for i in range(97,97+26)]+[\".\",\",\",\"?\",\" \"]\n",
        "print(vocabulary)\n",
        "print(len(vocabulary))"
      ]
    },
    {
      "cell_type": "code",
      "execution_count": 14,
      "metadata": {
        "id": "WRmkvKk0XyNu"
      },
      "outputs": [],
      "source": [
        "def get_label(label,):\n",
        "    label=tf.strings.unicode_split(label, input_encoding=\"UTF-8\")\n",
        "    label=tf.keras.layers.StringLookup(vocabulary=vocabulary, oov_token=\"\")(label)\n",
        "    return label"
      ]
    },
    {
      "cell_type": "code",
      "execution_count": 15,
      "metadata": {
        "id": "goEZJMqvOpWi"
      },
      "outputs": [],
      "source": [
        "def get_spec(filepath,label):\n",
        "\n",
        "  audio_binary=tf.io.read_file(filepath)\n",
        "  waveform=decode_audio(audio_binary)\n",
        "  waveform=tf.cast(waveform,tf.float32)\n",
        "\n",
        "  spectrogram=tf.signal.stft(\n",
        "      waveform,frame_length=FRAME_LENGTH,frame_step=FRAME_STEP)\n",
        "  spectrogram=tf.abs(spectrogram)\n",
        "  label=get_label(label)\n",
        "  return tf.expand_dims(spectrogram,axis=-1),label"
      ]
    },
    {
      "cell_type": "code",
      "execution_count": 16,
      "metadata": {
        "id": "zE3a09pNOpZi"
      },
      "outputs": [],
      "source": [
        "processed_dataset = (\n",
        "    dataset.map(get_spec, num_parallel_calls=tf.data.AUTOTUNE)\n",
        "    .padded_batch(BATCH_SIZE)\n",
        "    .prefetch(buffer_size=tf.data.AUTOTUNE)\n",
        ")"
      ]
    },
    {
      "cell_type": "code",
      "execution_count": 17,
      "metadata": {
        "id": "yiP1vsFRHSmV"
      },
      "outputs": [],
      "source": [
        "train_dataset=processed_dataset.take(int(0.95*len(processed_dataset)))\n",
        "val_dataset=processed_dataset.skip(int(0.95*len(processed_dataset)))"
      ]
    },
    {
      "cell_type": "code",
      "execution_count": 18,
      "metadata": {
        "colab": {
          "base_uri": "https://localhost:8080/"
        },
        "id": "qF91_ndsscaQ",
        "outputId": "3d0441f2-f410-4286-ebf9-47cdc8cc7abc"
      },
      "outputs": [
        {
          "name": "stdout",
          "output_type": "stream",
          "text": [
            "tf.Tensor(\n",
            "[[[[7.12798326e-04]\n",
            "   [4.62571252e-03]\n",
            "   [6.20642118e-03]\n",
            "   ...\n",
            "   [1.35252572e-04]\n",
            "   [7.60570110e-05]\n",
            "   [3.36043013e-05]]\n",
            "\n",
            "  [[4.23590001e-03]\n",
            "   [7.16409134e-03]\n",
            "   [3.25928186e-03]\n",
            "   ...\n",
            "   [9.35634525e-05]\n",
            "   [5.88791190e-05]\n",
            "   [2.21005175e-05]]\n",
            "\n",
            "  [[3.52023495e-03]\n",
            "   [1.79913249e-02]\n",
            "   [2.51728334e-02]\n",
            "   ...\n",
            "   [3.46485089e-04]\n",
            "   [1.54136491e-04]\n",
            "   [1.43282465e-04]]\n",
            "\n",
            "  ...\n",
            "\n",
            "  [[0.00000000e+00]\n",
            "   [0.00000000e+00]\n",
            "   [0.00000000e+00]\n",
            "   ...\n",
            "   [0.00000000e+00]\n",
            "   [0.00000000e+00]\n",
            "   [0.00000000e+00]]\n",
            "\n",
            "  [[0.00000000e+00]\n",
            "   [0.00000000e+00]\n",
            "   [0.00000000e+00]\n",
            "   ...\n",
            "   [0.00000000e+00]\n",
            "   [0.00000000e+00]\n",
            "   [0.00000000e+00]]\n",
            "\n",
            "  [[0.00000000e+00]\n",
            "   [0.00000000e+00]\n",
            "   [0.00000000e+00]\n",
            "   ...\n",
            "   [0.00000000e+00]\n",
            "   [0.00000000e+00]\n",
            "   [0.00000000e+00]]]\n",
            "\n",
            "\n",
            " [[[5.27175982e-03]\n",
            "   [8.09575431e-03]\n",
            "   [1.60869583e-02]\n",
            "   ...\n",
            "   [1.84492674e-04]\n",
            "   [1.14722949e-04]\n",
            "   [1.01984711e-04]]\n",
            "\n",
            "  [[5.57353161e-03]\n",
            "   [1.64909046e-02]\n",
            "   [1.31872818e-01]\n",
            "   ...\n",
            "   [1.44650781e-04]\n",
            "   [8.79609579e-05]\n",
            "   [5.28302044e-05]]\n",
            "\n",
            "  [[5.29655442e-03]\n",
            "   [3.66694182e-02]\n",
            "   [1.19853564e-01]\n",
            "   ...\n",
            "   [4.61324562e-05]\n",
            "   [8.15275562e-05]\n",
            "   [6.59953803e-05]]\n",
            "\n",
            "  ...\n",
            "\n",
            "  [[0.00000000e+00]\n",
            "   [0.00000000e+00]\n",
            "   [0.00000000e+00]\n",
            "   ...\n",
            "   [0.00000000e+00]\n",
            "   [0.00000000e+00]\n",
            "   [0.00000000e+00]]\n",
            "\n",
            "  [[0.00000000e+00]\n",
            "   [0.00000000e+00]\n",
            "   [0.00000000e+00]\n",
            "   ...\n",
            "   [0.00000000e+00]\n",
            "   [0.00000000e+00]\n",
            "   [0.00000000e+00]]\n",
            "\n",
            "  [[0.00000000e+00]\n",
            "   [0.00000000e+00]\n",
            "   [0.00000000e+00]\n",
            "   ...\n",
            "   [0.00000000e+00]\n",
            "   [0.00000000e+00]\n",
            "   [0.00000000e+00]]]\n",
            "\n",
            "\n",
            " [[[1.54056773e-03]\n",
            "   [1.72610283e-02]\n",
            "   [2.67379824e-02]\n",
            "   ...\n",
            "   [1.54624572e-02]\n",
            "   [1.72737881e-03]\n",
            "   [1.12285092e-03]]\n",
            "\n",
            "  [[2.27116048e-03]\n",
            "   [1.28952824e-02]\n",
            "   [2.37657558e-02]\n",
            "   ...\n",
            "   [5.74661745e-03]\n",
            "   [2.12212419e-03]\n",
            "   [7.28391111e-04]]\n",
            "\n",
            "  [[2.38706172e-03]\n",
            "   [6.54693693e-03]\n",
            "   [1.68451332e-02]\n",
            "   ...\n",
            "   [1.47015299e-03]\n",
            "   [2.00136332e-03]\n",
            "   [3.06203961e-04]]\n",
            "\n",
            "  ...\n",
            "\n",
            "  [[0.00000000e+00]\n",
            "   [0.00000000e+00]\n",
            "   [0.00000000e+00]\n",
            "   ...\n",
            "   [0.00000000e+00]\n",
            "   [0.00000000e+00]\n",
            "   [0.00000000e+00]]\n",
            "\n",
            "  [[0.00000000e+00]\n",
            "   [0.00000000e+00]\n",
            "   [0.00000000e+00]\n",
            "   ...\n",
            "   [0.00000000e+00]\n",
            "   [0.00000000e+00]\n",
            "   [0.00000000e+00]]\n",
            "\n",
            "  [[0.00000000e+00]\n",
            "   [0.00000000e+00]\n",
            "   [0.00000000e+00]\n",
            "   ...\n",
            "   [0.00000000e+00]\n",
            "   [0.00000000e+00]\n",
            "   [0.00000000e+00]]]\n",
            "\n",
            "\n",
            " ...\n",
            "\n",
            "\n",
            " [[[1.02405762e-03]\n",
            "   [4.04121587e-03]\n",
            "   [2.22003441e-02]\n",
            "   ...\n",
            "   [1.28761312e-04]\n",
            "   [5.62148853e-05]\n",
            "   [1.67928520e-05]]\n",
            "\n",
            "  [[1.93845741e-02]\n",
            "   [1.25117704e-01]\n",
            "   [2.73091108e-01]\n",
            "   ...\n",
            "   [8.97930222e-05]\n",
            "   [7.41217227e-05]\n",
            "   [1.57691538e-05]]\n",
            "\n",
            "  [[2.62877196e-02]\n",
            "   [3.35591167e-01]\n",
            "   [7.22948015e-01]\n",
            "   ...\n",
            "   [1.58464100e-04]\n",
            "   [1.03895196e-04]\n",
            "   [3.60542908e-05]]\n",
            "\n",
            "  ...\n",
            "\n",
            "  [[0.00000000e+00]\n",
            "   [0.00000000e+00]\n",
            "   [0.00000000e+00]\n",
            "   ...\n",
            "   [0.00000000e+00]\n",
            "   [0.00000000e+00]\n",
            "   [0.00000000e+00]]\n",
            "\n",
            "  [[0.00000000e+00]\n",
            "   [0.00000000e+00]\n",
            "   [0.00000000e+00]\n",
            "   ...\n",
            "   [0.00000000e+00]\n",
            "   [0.00000000e+00]\n",
            "   [0.00000000e+00]]\n",
            "\n",
            "  [[0.00000000e+00]\n",
            "   [0.00000000e+00]\n",
            "   [0.00000000e+00]\n",
            "   ...\n",
            "   [0.00000000e+00]\n",
            "   [0.00000000e+00]\n",
            "   [0.00000000e+00]]]\n",
            "\n",
            "\n",
            " [[[5.64128626e-04]\n",
            "   [3.16781970e-03]\n",
            "   [7.03171920e-03]\n",
            "   ...\n",
            "   [4.74121480e-05]\n",
            "   [9.32510666e-05]\n",
            "   [1.41743076e-04]]\n",
            "\n",
            "  [[6.95778197e-03]\n",
            "   [1.43903382e-02]\n",
            "   [1.97955891e-02]\n",
            "   ...\n",
            "   [9.63447092e-05]\n",
            "   [8.67483686e-05]\n",
            "   [1.74161978e-05]]\n",
            "\n",
            "  [[3.66302058e-02]\n",
            "   [9.71590281e-02]\n",
            "   [6.94765151e-01]\n",
            "   ...\n",
            "   [1.30069803e-03]\n",
            "   [5.05243544e-04]\n",
            "   [4.11238521e-04]]\n",
            "\n",
            "  ...\n",
            "\n",
            "  [[0.00000000e+00]\n",
            "   [0.00000000e+00]\n",
            "   [0.00000000e+00]\n",
            "   ...\n",
            "   [0.00000000e+00]\n",
            "   [0.00000000e+00]\n",
            "   [0.00000000e+00]]\n",
            "\n",
            "  [[0.00000000e+00]\n",
            "   [0.00000000e+00]\n",
            "   [0.00000000e+00]\n",
            "   ...\n",
            "   [0.00000000e+00]\n",
            "   [0.00000000e+00]\n",
            "   [0.00000000e+00]]\n",
            "\n",
            "  [[0.00000000e+00]\n",
            "   [0.00000000e+00]\n",
            "   [0.00000000e+00]\n",
            "   ...\n",
            "   [0.00000000e+00]\n",
            "   [0.00000000e+00]\n",
            "   [0.00000000e+00]]]\n",
            "\n",
            "\n",
            " [[[2.04721931e-03]\n",
            "   [4.92025912e-03]\n",
            "   [1.53617561e-02]\n",
            "   ...\n",
            "   [3.29150898e-05]\n",
            "   [8.57878840e-05]\n",
            "   [6.12201402e-05]]\n",
            "\n",
            "  [[1.91859044e-02]\n",
            "   [4.02277261e-02]\n",
            "   [5.78187071e-02]\n",
            "   ...\n",
            "   [7.32320677e-06]\n",
            "   [9.83806895e-05]\n",
            "   [7.18384981e-05]]\n",
            "\n",
            "  [[2.17868388e-03]\n",
            "   [7.40245655e-02]\n",
            "   [6.64362013e-01]\n",
            "   ...\n",
            "   [1.91077357e-04]\n",
            "   [1.87537546e-04]\n",
            "   [2.13325024e-04]]\n",
            "\n",
            "  ...\n",
            "\n",
            "  [[0.00000000e+00]\n",
            "   [0.00000000e+00]\n",
            "   [0.00000000e+00]\n",
            "   ...\n",
            "   [0.00000000e+00]\n",
            "   [0.00000000e+00]\n",
            "   [0.00000000e+00]]\n",
            "\n",
            "  [[0.00000000e+00]\n",
            "   [0.00000000e+00]\n",
            "   [0.00000000e+00]\n",
            "   ...\n",
            "   [0.00000000e+00]\n",
            "   [0.00000000e+00]\n",
            "   [0.00000000e+00]]\n",
            "\n",
            "  [[0.00000000e+00]\n",
            "   [0.00000000e+00]\n",
            "   [0.00000000e+00]\n",
            "   ...\n",
            "   [0.00000000e+00]\n",
            "   [0.00000000e+00]\n",
            "   [0.00000000e+00]]]], shape=(32, 1712, 129, 1), dtype=float32) tf.Tensor(\n",
            "[[16 18  9 ...  0  0  0]\n",
            " [ 9 14 30 ...  0  0  0]\n",
            " [ 6 15 18 ...  0  0  0]\n",
            " ...\n",
            " [ 1 30 22 ...  0  0  0]\n",
            " [ 9 14 30 ...  0  0  0]\n",
            " [ 1 14  4 ...  0  0  0]], shape=(32, 168), dtype=int64)\n"
          ]
        }
      ],
      "source": [
        "for i,j in train_dataset.take(1):\n",
        "  print(i,j)"
      ]
    },
    {
      "cell_type": "markdown",
      "metadata": {
        "id": "ENpMk1RpEwd1"
      },
      "source": [
        "# Modeling and Training"
      ]
    },
    {
      "cell_type": "code",
      "execution_count": 19,
      "metadata": {},
      "outputs": [],
      "source": [
        "gpus = tf.config.experimental.list_physical_devices('GPU')\n",
        "if gpus:\n",
        "    try:\n",
        "        for gpu in gpus:\n",
        "            tf.config.experimental.set_memory_growth(gpu, True)\n",
        "    except RuntimeError as e:\n",
        "        print(e)"
      ]
    },
    {
      "cell_type": "code",
      "execution_count": 20,
      "metadata": {
        "id": "vz5J8pIRoc1c"
      },
      "outputs": [],
      "source": [
        "normalization=tf.keras.layers.Normalization()"
      ]
    },
    {
      "cell_type": "code",
      "execution_count": 21,
      "metadata": {
        "colab": {
          "base_uri": "https://localhost:8080/"
        },
        "id": "mnEYomGKEx4o",
        "outputId": "66a78631-90dc-46a0-e058-996ccdd9386a"
      },
      "outputs": [
        {
          "name": "stdout",
          "output_type": "stream",
          "text": [
            "Model: \"DeepSpeech_2_Inspired\"\n",
            "_________________________________________________________________\n",
            " Layer (type)                Output Shape              Param #   \n",
            "=================================================================\n",
            " input (InputLayer)          [(None, None, 129, 1)]    0         \n",
            "                                                                 \n",
            " normalization (Normalizatio  (None, None, 129, 1)     3         \n",
            " n)                                                              \n",
            "                                                                 \n",
            " conv2d (Conv2D)             (None, None, 65, 32)      14464     \n",
            "                                                                 \n",
            " layer_normalization (LayerN  (None, None, 65, 32)     64        \n",
            " ormalization)                                                   \n",
            "                                                                 \n",
            " conv2d_1 (Conv2D)           (None, None, 33, 64)      473152    \n",
            "                                                                 \n",
            " layer_normalization_1 (Laye  (None, None, 33, 64)     128       \n",
            " rNormalization)                                                 \n",
            "                                                                 \n",
            " reshape (Reshape)           (None, None, 2112)        0         \n",
            "                                                                 \n",
            " bidirectional (Bidirectiona  (None, None, 256)        1721856   \n",
            " l)                                                              \n",
            "                                                                 \n",
            " bidirectional_1 (Bidirectio  (None, None, 256)        296448    \n",
            " nal)                                                            \n",
            "                                                                 \n",
            " bidirectional_2 (Bidirectio  (None, None, 256)        296448    \n",
            " nal)                                                            \n",
            "                                                                 \n",
            " dense (Dense)               (None, None, 32)          8224      \n",
            "                                                                 \n",
            "=================================================================\n",
            "Total params: 2,810,787\n",
            "Trainable params: 2,810,784\n",
            "Non-trainable params: 3\n",
            "_________________________________________________________________\n"
          ]
        }
      ],
      "source": [
        "input_spectrogram=Input((None,129,1), name=\"input\")\n",
        "\n",
        "x=normalization(input_spectrogram)\n",
        "x=Conv2D(32,kernel_size=[11,41],strides=[2,2],padding='same',activation='relu')(x)\n",
        "x=LayerNormalization()(x)\n",
        "x=Conv2D(64,kernel_size=[11,21],strides=[1,2],padding='same',activation='relu')(x)\n",
        "x=LayerNormalization()(x)\n",
        "\n",
        "x=Reshape((-1, x.shape[-2] * x.shape[-1]))(x)\n",
        "\n",
        "x=Bidirectional(GRU(128,return_sequences=True))(x)\n",
        "x=Bidirectional(GRU(128,return_sequences=True))(x)\n",
        "x=Bidirectional(GRU(128,return_sequences=True))(x)\n",
        "\n",
        "\n",
        "output=Dense(len(vocabulary)+1, activation=\"softmax\")(x)\n",
        "\n",
        "model = tf.keras.Model(input_spectrogram, output, name=\"DeepSpeech_2_Inspired\")\n",
        "model.summary()"
      ]
    },
    {
      "cell_type": "code",
      "execution_count": 22,
      "metadata": {
        "colab": {
          "base_uri": "https://localhost:8080/",
          "height": 36
        },
        "id": "vGd6RJivFPx7",
        "outputId": "ce18654c-57f9-4ffb-9e5d-17307558705c"
      },
      "outputs": [
        {
          "data": {
            "text/plain": [
              "'2.10.1'"
            ]
          },
          "execution_count": 22,
          "metadata": {},
          "output_type": "execute_result"
        }
      ],
      "source": [
        "tf.__version__"
      ]
    },
    {
      "cell_type": "code",
      "execution_count": 23,
      "metadata": {
        "id": "qWTEwUOkzjTL"
      },
      "outputs": [],
      "source": [
        "def ctc_loss(y_true,y_pred):\n",
        "  batch_size=tf.shape(y_pred)[0]\n",
        "  pred_length=tf.shape(y_pred)[1]\n",
        "  true_length=tf.shape(y_true)[1]\n",
        "\n",
        "  pred_length=pred_length*tf.ones([batch_size,1],dtype=tf.int32)\n",
        "  true_length=true_length*tf.ones([batch_size,1],dtype=tf.int32)\n",
        "\n",
        "  return tf.keras.backend.ctc_batch_cost(y_true,y_pred,pred_length,true_length)"
      ]
    },
    {
      "cell_type": "code",
      "execution_count": 24,
      "metadata": {
        "id": "xj-WDBrHhH3S"
      },
      "outputs": [],
      "source": [
        "model.compile(\n",
        "    loss=ctc_loss,\n",
        "    optimizer=tf.keras.optimizers.Adam(learning_rate=LR),\n",
        "    \n",
        ")"
      ]
    },
    {
      "cell_type": "code",
      "execution_count": 25,
      "metadata": {
        "id": "Ub66VhOq9NJC"
      },
      "outputs": [],
      "source": [
        "#model.load_weights('/content/drive/MyDrive/nlp/ctc_keras.h5')"
      ]
    },
    {
      "cell_type": "code",
      "execution_count": 26,
      "metadata": {},
      "outputs": [
        {
          "data": {
            "text/plain": [
              "[PhysicalDevice(name='/physical_device:GPU:0', device_type='GPU')]"
            ]
          },
          "execution_count": 26,
          "metadata": {},
          "output_type": "execute_result"
        }
      ],
      "source": [
        "tf.config.list_physical_devices('GPU')"
      ]
    },
    {
      "cell_type": "code",
      "execution_count": 27,
      "metadata": {
        "colab": {
          "base_uri": "https://localhost:8080/",
          "height": 633
        },
        "id": "Tv5uZymhiIjZ",
        "outputId": "828a1512-6a2b-46b0-8127-3815e69abc12"
      },
      "outputs": [
        {
          "name": "stdout",
          "output_type": "stream",
          "text": [
            "Epoch 1/10\n"
          ]
        },
        {
          "ename": "ResourceExhaustedError",
          "evalue": "Graph execution error:\n\nDetected at node 'DeepSpeech_2_Inspired/conv2d_1/Relu' defined at (most recent call last):\n    File \"c:\\Users\\manis\\Anaconda3\\envs\\stt\\lib\\runpy.py\", line 196, in _run_module_as_main\n      return _run_code(code, main_globals, None,\n    File \"c:\\Users\\manis\\Anaconda3\\envs\\stt\\lib\\runpy.py\", line 86, in _run_code\n      exec(code, run_globals)\n    File \"c:\\Users\\manis\\Anaconda3\\envs\\stt\\lib\\site-packages\\ipykernel_launcher.py\", line 17, in <module>\n      app.launch_new_instance()\n    File \"c:\\Users\\manis\\Anaconda3\\envs\\stt\\lib\\site-packages\\traitlets\\config\\application.py\", line 1053, in launch_instance\n      app.start()\n    File \"c:\\Users\\manis\\Anaconda3\\envs\\stt\\lib\\site-packages\\ipykernel\\kernelapp.py\", line 737, in start\n      self.io_loop.start()\n    File \"c:\\Users\\manis\\Anaconda3\\envs\\stt\\lib\\site-packages\\tornado\\platform\\asyncio.py\", line 195, in start\n      self.asyncio_loop.run_forever()\n    File \"c:\\Users\\manis\\Anaconda3\\envs\\stt\\lib\\asyncio\\base_events.py\", line 603, in run_forever\n      self._run_once()\n    File \"c:\\Users\\manis\\Anaconda3\\envs\\stt\\lib\\asyncio\\base_events.py\", line 1909, in _run_once\n      handle._run()\n    File \"c:\\Users\\manis\\Anaconda3\\envs\\stt\\lib\\asyncio\\events.py\", line 80, in _run\n      self._context.run(self._callback, *self._args)\n    File \"c:\\Users\\manis\\Anaconda3\\envs\\stt\\lib\\site-packages\\ipykernel\\kernelbase.py\", line 524, in dispatch_queue\n      await self.process_one()\n    File \"c:\\Users\\manis\\Anaconda3\\envs\\stt\\lib\\site-packages\\ipykernel\\kernelbase.py\", line 513, in process_one\n      await dispatch(*args)\n    File \"c:\\Users\\manis\\Anaconda3\\envs\\stt\\lib\\site-packages\\ipykernel\\kernelbase.py\", line 418, in dispatch_shell\n      await result\n    File \"c:\\Users\\manis\\Anaconda3\\envs\\stt\\lib\\site-packages\\ipykernel\\kernelbase.py\", line 758, in execute_request\n      reply_content = await reply_content\n    File \"c:\\Users\\manis\\Anaconda3\\envs\\stt\\lib\\site-packages\\ipykernel\\ipkernel.py\", line 426, in do_execute\n      res = shell.run_cell(\n    File \"c:\\Users\\manis\\Anaconda3\\envs\\stt\\lib\\site-packages\\ipykernel\\zmqshell.py\", line 549, in run_cell\n      return super().run_cell(*args, **kwargs)\n    File \"c:\\Users\\manis\\Anaconda3\\envs\\stt\\lib\\site-packages\\IPython\\core\\interactiveshell.py\", line 3046, in run_cell\n      result = self._run_cell(\n    File \"c:\\Users\\manis\\Anaconda3\\envs\\stt\\lib\\site-packages\\IPython\\core\\interactiveshell.py\", line 3101, in _run_cell\n      result = runner(coro)\n    File \"c:\\Users\\manis\\Anaconda3\\envs\\stt\\lib\\site-packages\\IPython\\core\\async_helpers.py\", line 129, in _pseudo_sync_runner\n      coro.send(None)\n    File \"c:\\Users\\manis\\Anaconda3\\envs\\stt\\lib\\site-packages\\IPython\\core\\interactiveshell.py\", line 3306, in run_cell_async\n      has_raised = await self.run_ast_nodes(code_ast.body, cell_name,\n    File \"c:\\Users\\manis\\Anaconda3\\envs\\stt\\lib\\site-packages\\IPython\\core\\interactiveshell.py\", line 3488, in run_ast_nodes\n      if await self.run_code(code, result, async_=asy):\n    File \"c:\\Users\\manis\\Anaconda3\\envs\\stt\\lib\\site-packages\\IPython\\core\\interactiveshell.py\", line 3548, in run_code\n      exec(code_obj, self.user_global_ns, self.user_ns)\n    File \"C:\\Users\\manis\\AppData\\Local\\Temp\\ipykernel_25784\\2438924376.py\", line 1, in <module>\n      history=model.fit(\n    File \"c:\\Users\\manis\\Anaconda3\\envs\\stt\\lib\\site-packages\\keras\\utils\\traceback_utils.py\", line 65, in error_handler\n      return fn(*args, **kwargs)\n    File \"c:\\Users\\manis\\Anaconda3\\envs\\stt\\lib\\site-packages\\keras\\engine\\training.py\", line 1564, in fit\n      tmp_logs = self.train_function(iterator)\n    File \"c:\\Users\\manis\\Anaconda3\\envs\\stt\\lib\\site-packages\\keras\\engine\\training.py\", line 1160, in train_function\n      return step_function(self, iterator)\n    File \"c:\\Users\\manis\\Anaconda3\\envs\\stt\\lib\\site-packages\\keras\\engine\\training.py\", line 1146, in step_function\n      outputs = model.distribute_strategy.run(run_step, args=(data,))\n    File \"c:\\Users\\manis\\Anaconda3\\envs\\stt\\lib\\site-packages\\keras\\engine\\training.py\", line 1135, in run_step\n      outputs = model.train_step(data)\n    File \"c:\\Users\\manis\\Anaconda3\\envs\\stt\\lib\\site-packages\\keras\\engine\\training.py\", line 993, in train_step\n      y_pred = self(x, training=True)\n    File \"c:\\Users\\manis\\Anaconda3\\envs\\stt\\lib\\site-packages\\keras\\utils\\traceback_utils.py\", line 65, in error_handler\n      return fn(*args, **kwargs)\n    File \"c:\\Users\\manis\\Anaconda3\\envs\\stt\\lib\\site-packages\\keras\\engine\\training.py\", line 557, in __call__\n      return super().__call__(*args, **kwargs)\n    File \"c:\\Users\\manis\\Anaconda3\\envs\\stt\\lib\\site-packages\\keras\\utils\\traceback_utils.py\", line 65, in error_handler\n      return fn(*args, **kwargs)\n    File \"c:\\Users\\manis\\Anaconda3\\envs\\stt\\lib\\site-packages\\keras\\engine\\base_layer.py\", line 1097, in __call__\n      outputs = call_fn(inputs, *args, **kwargs)\n    File \"c:\\Users\\manis\\Anaconda3\\envs\\stt\\lib\\site-packages\\keras\\utils\\traceback_utils.py\", line 96, in error_handler\n      return fn(*args, **kwargs)\n    File \"c:\\Users\\manis\\Anaconda3\\envs\\stt\\lib\\site-packages\\keras\\engine\\functional.py\", line 510, in call\n      return self._run_internal_graph(inputs, training=training, mask=mask)\n    File \"c:\\Users\\manis\\Anaconda3\\envs\\stt\\lib\\site-packages\\keras\\engine\\functional.py\", line 667, in _run_internal_graph\n      outputs = node.layer(*args, **kwargs)\n    File \"c:\\Users\\manis\\Anaconda3\\envs\\stt\\lib\\site-packages\\keras\\utils\\traceback_utils.py\", line 65, in error_handler\n      return fn(*args, **kwargs)\n    File \"c:\\Users\\manis\\Anaconda3\\envs\\stt\\lib\\site-packages\\keras\\engine\\base_layer.py\", line 1097, in __call__\n      outputs = call_fn(inputs, *args, **kwargs)\n    File \"c:\\Users\\manis\\Anaconda3\\envs\\stt\\lib\\site-packages\\keras\\utils\\traceback_utils.py\", line 96, in error_handler\n      return fn(*args, **kwargs)\n    File \"c:\\Users\\manis\\Anaconda3\\envs\\stt\\lib\\site-packages\\keras\\layers\\convolutional\\base_conv.py\", line 314, in call\n      return self.activation(outputs)\n    File \"c:\\Users\\manis\\Anaconda3\\envs\\stt\\lib\\site-packages\\keras\\activations.py\", line 317, in relu\n      return backend.relu(\n    File \"c:\\Users\\manis\\Anaconda3\\envs\\stt\\lib\\site-packages\\keras\\backend.py\", line 5366, in relu\n      x = tf.nn.relu(x)\nNode: 'DeepSpeech_2_Inspired/conv2d_1/Relu'\nDetected at node 'DeepSpeech_2_Inspired/conv2d_1/Relu' defined at (most recent call last):\n    File \"c:\\Users\\manis\\Anaconda3\\envs\\stt\\lib\\runpy.py\", line 196, in _run_module_as_main\n      return _run_code(code, main_globals, None,\n    File \"c:\\Users\\manis\\Anaconda3\\envs\\stt\\lib\\runpy.py\", line 86, in _run_code\n      exec(code, run_globals)\n    File \"c:\\Users\\manis\\Anaconda3\\envs\\stt\\lib\\site-packages\\ipykernel_launcher.py\", line 17, in <module>\n      app.launch_new_instance()\n    File \"c:\\Users\\manis\\Anaconda3\\envs\\stt\\lib\\site-packages\\traitlets\\config\\application.py\", line 1053, in launch_instance\n      app.start()\n    File \"c:\\Users\\manis\\Anaconda3\\envs\\stt\\lib\\site-packages\\ipykernel\\kernelapp.py\", line 737, in start\n      self.io_loop.start()\n    File \"c:\\Users\\manis\\Anaconda3\\envs\\stt\\lib\\site-packages\\tornado\\platform\\asyncio.py\", line 195, in start\n      self.asyncio_loop.run_forever()\n    File \"c:\\Users\\manis\\Anaconda3\\envs\\stt\\lib\\asyncio\\base_events.py\", line 603, in run_forever\n      self._run_once()\n    File \"c:\\Users\\manis\\Anaconda3\\envs\\stt\\lib\\asyncio\\base_events.py\", line 1909, in _run_once\n      handle._run()\n    File \"c:\\Users\\manis\\Anaconda3\\envs\\stt\\lib\\asyncio\\events.py\", line 80, in _run\n      self._context.run(self._callback, *self._args)\n    File \"c:\\Users\\manis\\Anaconda3\\envs\\stt\\lib\\site-packages\\ipykernel\\kernelbase.py\", line 524, in dispatch_queue\n      await self.process_one()\n    File \"c:\\Users\\manis\\Anaconda3\\envs\\stt\\lib\\site-packages\\ipykernel\\kernelbase.py\", line 513, in process_one\n      await dispatch(*args)\n    File \"c:\\Users\\manis\\Anaconda3\\envs\\stt\\lib\\site-packages\\ipykernel\\kernelbase.py\", line 418, in dispatch_shell\n      await result\n    File \"c:\\Users\\manis\\Anaconda3\\envs\\stt\\lib\\site-packages\\ipykernel\\kernelbase.py\", line 758, in execute_request\n      reply_content = await reply_content\n    File \"c:\\Users\\manis\\Anaconda3\\envs\\stt\\lib\\site-packages\\ipykernel\\ipkernel.py\", line 426, in do_execute\n      res = shell.run_cell(\n    File \"c:\\Users\\manis\\Anaconda3\\envs\\stt\\lib\\site-packages\\ipykernel\\zmqshell.py\", line 549, in run_cell\n      return super().run_cell(*args, **kwargs)\n    File \"c:\\Users\\manis\\Anaconda3\\envs\\stt\\lib\\site-packages\\IPython\\core\\interactiveshell.py\", line 3046, in run_cell\n      result = self._run_cell(\n    File \"c:\\Users\\manis\\Anaconda3\\envs\\stt\\lib\\site-packages\\IPython\\core\\interactiveshell.py\", line 3101, in _run_cell\n      result = runner(coro)\n    File \"c:\\Users\\manis\\Anaconda3\\envs\\stt\\lib\\site-packages\\IPython\\core\\async_helpers.py\", line 129, in _pseudo_sync_runner\n      coro.send(None)\n    File \"c:\\Users\\manis\\Anaconda3\\envs\\stt\\lib\\site-packages\\IPython\\core\\interactiveshell.py\", line 3306, in run_cell_async\n      has_raised = await self.run_ast_nodes(code_ast.body, cell_name,\n    File \"c:\\Users\\manis\\Anaconda3\\envs\\stt\\lib\\site-packages\\IPython\\core\\interactiveshell.py\", line 3488, in run_ast_nodes\n      if await self.run_code(code, result, async_=asy):\n    File \"c:\\Users\\manis\\Anaconda3\\envs\\stt\\lib\\site-packages\\IPython\\core\\interactiveshell.py\", line 3548, in run_code\n      exec(code_obj, self.user_global_ns, self.user_ns)\n    File \"C:\\Users\\manis\\AppData\\Local\\Temp\\ipykernel_25784\\2438924376.py\", line 1, in <module>\n      history=model.fit(\n    File \"c:\\Users\\manis\\Anaconda3\\envs\\stt\\lib\\site-packages\\keras\\utils\\traceback_utils.py\", line 65, in error_handler\n      return fn(*args, **kwargs)\n    File \"c:\\Users\\manis\\Anaconda3\\envs\\stt\\lib\\site-packages\\keras\\engine\\training.py\", line 1564, in fit\n      tmp_logs = self.train_function(iterator)\n    File \"c:\\Users\\manis\\Anaconda3\\envs\\stt\\lib\\site-packages\\keras\\engine\\training.py\", line 1160, in train_function\n      return step_function(self, iterator)\n    File \"c:\\Users\\manis\\Anaconda3\\envs\\stt\\lib\\site-packages\\keras\\engine\\training.py\", line 1146, in step_function\n      outputs = model.distribute_strategy.run(run_step, args=(data,))\n    File \"c:\\Users\\manis\\Anaconda3\\envs\\stt\\lib\\site-packages\\keras\\engine\\training.py\", line 1135, in run_step\n      outputs = model.train_step(data)\n    File \"c:\\Users\\manis\\Anaconda3\\envs\\stt\\lib\\site-packages\\keras\\engine\\training.py\", line 993, in train_step\n      y_pred = self(x, training=True)\n    File \"c:\\Users\\manis\\Anaconda3\\envs\\stt\\lib\\site-packages\\keras\\utils\\traceback_utils.py\", line 65, in error_handler\n      return fn(*args, **kwargs)\n    File \"c:\\Users\\manis\\Anaconda3\\envs\\stt\\lib\\site-packages\\keras\\engine\\training.py\", line 557, in __call__\n      return super().__call__(*args, **kwargs)\n    File \"c:\\Users\\manis\\Anaconda3\\envs\\stt\\lib\\site-packages\\keras\\utils\\traceback_utils.py\", line 65, in error_handler\n      return fn(*args, **kwargs)\n    File \"c:\\Users\\manis\\Anaconda3\\envs\\stt\\lib\\site-packages\\keras\\engine\\base_layer.py\", line 1097, in __call__\n      outputs = call_fn(inputs, *args, **kwargs)\n    File \"c:\\Users\\manis\\Anaconda3\\envs\\stt\\lib\\site-packages\\keras\\utils\\traceback_utils.py\", line 96, in error_handler\n      return fn(*args, **kwargs)\n    File \"c:\\Users\\manis\\Anaconda3\\envs\\stt\\lib\\site-packages\\keras\\engine\\functional.py\", line 510, in call\n      return self._run_internal_graph(inputs, training=training, mask=mask)\n    File \"c:\\Users\\manis\\Anaconda3\\envs\\stt\\lib\\site-packages\\keras\\engine\\functional.py\", line 667, in _run_internal_graph\n      outputs = node.layer(*args, **kwargs)\n    File \"c:\\Users\\manis\\Anaconda3\\envs\\stt\\lib\\site-packages\\keras\\utils\\traceback_utils.py\", line 65, in error_handler\n      return fn(*args, **kwargs)\n    File \"c:\\Users\\manis\\Anaconda3\\envs\\stt\\lib\\site-packages\\keras\\engine\\base_layer.py\", line 1097, in __call__\n      outputs = call_fn(inputs, *args, **kwargs)\n    File \"c:\\Users\\manis\\Anaconda3\\envs\\stt\\lib\\site-packages\\keras\\utils\\traceback_utils.py\", line 96, in error_handler\n      return fn(*args, **kwargs)\n    File \"c:\\Users\\manis\\Anaconda3\\envs\\stt\\lib\\site-packages\\keras\\layers\\convolutional\\base_conv.py\", line 314, in call\n      return self.activation(outputs)\n    File \"c:\\Users\\manis\\Anaconda3\\envs\\stt\\lib\\site-packages\\keras\\activations.py\", line 317, in relu\n      return backend.relu(\n    File \"c:\\Users\\manis\\Anaconda3\\envs\\stt\\lib\\site-packages\\keras\\backend.py\", line 5366, in relu\n      x = tf.nn.relu(x)\nNode: 'DeepSpeech_2_Inspired/conv2d_1/Relu'\n2 root error(s) found.\n  (0) RESOURCE_EXHAUSTED:  OOM when allocating tensor with shape[32,64,856,33] and type float on /job:localhost/replica:0/task:0/device:GPU:0 by allocator GPU_0_bfc\n\t [[{{node DeepSpeech_2_Inspired/conv2d_1/Relu}}]]\nHint: If you want to see a list of allocated tensors when OOM happens, add report_tensor_allocations_upon_oom to RunOptions for current allocation info. This isn't available when running in Eager mode.\n\n\t [[ctc_loss/Log/_58]]\nHint: If you want to see a list of allocated tensors when OOM happens, add report_tensor_allocations_upon_oom to RunOptions for current allocation info. This isn't available when running in Eager mode.\n\n  (1) RESOURCE_EXHAUSTED:  OOM when allocating tensor with shape[32,64,856,33] and type float on /job:localhost/replica:0/task:0/device:GPU:0 by allocator GPU_0_bfc\n\t [[{{node DeepSpeech_2_Inspired/conv2d_1/Relu}}]]\nHint: If you want to see a list of allocated tensors when OOM happens, add report_tensor_allocations_upon_oom to RunOptions for current allocation info. This isn't available when running in Eager mode.\n\n0 successful operations.\n0 derived errors ignored. [Op:__inference_train_function_17023]",
          "output_type": "error",
          "traceback": [
            "\u001b[1;31m---------------------------------------------------------------------------\u001b[0m",
            "\u001b[1;31mResourceExhaustedError\u001b[0m                    Traceback (most recent call last)",
            "\u001b[1;32md:\\Projects\\Github Clones\\deep-speech-2\\Audio-Wizard.ipynb Cell 37\u001b[0m line \u001b[0;36m1\n\u001b[1;32m----> <a href='vscode-notebook-cell:/d%3A/Projects/Github%20Clones/deep-speech-2/Audio-Wizard.ipynb#X42sZmlsZQ%3D%3D?line=0'>1</a>\u001b[0m history\u001b[39m=\u001b[39mmodel\u001b[39m.\u001b[39;49mfit(\n\u001b[0;32m      <a href='vscode-notebook-cell:/d%3A/Projects/Github%20Clones/deep-speech-2/Audio-Wizard.ipynb#X42sZmlsZQ%3D%3D?line=1'>2</a>\u001b[0m   train_dataset,\n\u001b[0;32m      <a href='vscode-notebook-cell:/d%3A/Projects/Github%20Clones/deep-speech-2/Audio-Wizard.ipynb#X42sZmlsZQ%3D%3D?line=2'>3</a>\u001b[0m   validation_data\u001b[39m=\u001b[39;49mval_dataset,\n\u001b[0;32m      <a href='vscode-notebook-cell:/d%3A/Projects/Github%20Clones/deep-speech-2/Audio-Wizard.ipynb#X42sZmlsZQ%3D%3D?line=3'>4</a>\u001b[0m   verbose\u001b[39m=\u001b[39;49m\u001b[39m1\u001b[39;49m,\n\u001b[0;32m      <a href='vscode-notebook-cell:/d%3A/Projects/Github%20Clones/deep-speech-2/Audio-Wizard.ipynb#X42sZmlsZQ%3D%3D?line=4'>5</a>\u001b[0m   epochs\u001b[39m=\u001b[39;49m\u001b[39m10\u001b[39;49m\n\u001b[0;32m      <a href='vscode-notebook-cell:/d%3A/Projects/Github%20Clones/deep-speech-2/Audio-Wizard.ipynb#X42sZmlsZQ%3D%3D?line=5'>6</a>\u001b[0m )\n",
            "File \u001b[1;32mc:\\Users\\manis\\Anaconda3\\envs\\stt\\lib\\site-packages\\keras\\utils\\traceback_utils.py:70\u001b[0m, in \u001b[0;36mfilter_traceback.<locals>.error_handler\u001b[1;34m(*args, **kwargs)\u001b[0m\n\u001b[0;32m     67\u001b[0m     filtered_tb \u001b[39m=\u001b[39m _process_traceback_frames(e\u001b[39m.\u001b[39m__traceback__)\n\u001b[0;32m     68\u001b[0m     \u001b[39m# To get the full stack trace, call:\u001b[39;00m\n\u001b[0;32m     69\u001b[0m     \u001b[39m# `tf.debugging.disable_traceback_filtering()`\u001b[39;00m\n\u001b[1;32m---> 70\u001b[0m     \u001b[39mraise\u001b[39;00m e\u001b[39m.\u001b[39mwith_traceback(filtered_tb) \u001b[39mfrom\u001b[39;00m \u001b[39mNone\u001b[39;00m\n\u001b[0;32m     71\u001b[0m \u001b[39mfinally\u001b[39;00m:\n\u001b[0;32m     72\u001b[0m     \u001b[39mdel\u001b[39;00m filtered_tb\n",
            "File \u001b[1;32mc:\\Users\\manis\\Anaconda3\\envs\\stt\\lib\\site-packages\\tensorflow\\python\\eager\\execute.py:54\u001b[0m, in \u001b[0;36mquick_execute\u001b[1;34m(op_name, num_outputs, inputs, attrs, ctx, name)\u001b[0m\n\u001b[0;32m     52\u001b[0m \u001b[39mtry\u001b[39;00m:\n\u001b[0;32m     53\u001b[0m   ctx\u001b[39m.\u001b[39mensure_initialized()\n\u001b[1;32m---> 54\u001b[0m   tensors \u001b[39m=\u001b[39m pywrap_tfe\u001b[39m.\u001b[39mTFE_Py_Execute(ctx\u001b[39m.\u001b[39m_handle, device_name, op_name,\n\u001b[0;32m     55\u001b[0m                                       inputs, attrs, num_outputs)\n\u001b[0;32m     56\u001b[0m \u001b[39mexcept\u001b[39;00m core\u001b[39m.\u001b[39m_NotOkStatusException \u001b[39mas\u001b[39;00m e:\n\u001b[0;32m     57\u001b[0m   \u001b[39mif\u001b[39;00m name \u001b[39mis\u001b[39;00m \u001b[39mnot\u001b[39;00m \u001b[39mNone\u001b[39;00m:\n",
            "\u001b[1;31mResourceExhaustedError\u001b[0m: Graph execution error:\n\nDetected at node 'DeepSpeech_2_Inspired/conv2d_1/Relu' defined at (most recent call last):\n    File \"c:\\Users\\manis\\Anaconda3\\envs\\stt\\lib\\runpy.py\", line 196, in _run_module_as_main\n      return _run_code(code, main_globals, None,\n    File \"c:\\Users\\manis\\Anaconda3\\envs\\stt\\lib\\runpy.py\", line 86, in _run_code\n      exec(code, run_globals)\n    File \"c:\\Users\\manis\\Anaconda3\\envs\\stt\\lib\\site-packages\\ipykernel_launcher.py\", line 17, in <module>\n      app.launch_new_instance()\n    File \"c:\\Users\\manis\\Anaconda3\\envs\\stt\\lib\\site-packages\\traitlets\\config\\application.py\", line 1053, in launch_instance\n      app.start()\n    File \"c:\\Users\\manis\\Anaconda3\\envs\\stt\\lib\\site-packages\\ipykernel\\kernelapp.py\", line 737, in start\n      self.io_loop.start()\n    File \"c:\\Users\\manis\\Anaconda3\\envs\\stt\\lib\\site-packages\\tornado\\platform\\asyncio.py\", line 195, in start\n      self.asyncio_loop.run_forever()\n    File \"c:\\Users\\manis\\Anaconda3\\envs\\stt\\lib\\asyncio\\base_events.py\", line 603, in run_forever\n      self._run_once()\n    File \"c:\\Users\\manis\\Anaconda3\\envs\\stt\\lib\\asyncio\\base_events.py\", line 1909, in _run_once\n      handle._run()\n    File \"c:\\Users\\manis\\Anaconda3\\envs\\stt\\lib\\asyncio\\events.py\", line 80, in _run\n      self._context.run(self._callback, *self._args)\n    File \"c:\\Users\\manis\\Anaconda3\\envs\\stt\\lib\\site-packages\\ipykernel\\kernelbase.py\", line 524, in dispatch_queue\n      await self.process_one()\n    File \"c:\\Users\\manis\\Anaconda3\\envs\\stt\\lib\\site-packages\\ipykernel\\kernelbase.py\", line 513, in process_one\n      await dispatch(*args)\n    File \"c:\\Users\\manis\\Anaconda3\\envs\\stt\\lib\\site-packages\\ipykernel\\kernelbase.py\", line 418, in dispatch_shell\n      await result\n    File \"c:\\Users\\manis\\Anaconda3\\envs\\stt\\lib\\site-packages\\ipykernel\\kernelbase.py\", line 758, in execute_request\n      reply_content = await reply_content\n    File \"c:\\Users\\manis\\Anaconda3\\envs\\stt\\lib\\site-packages\\ipykernel\\ipkernel.py\", line 426, in do_execute\n      res = shell.run_cell(\n    File \"c:\\Users\\manis\\Anaconda3\\envs\\stt\\lib\\site-packages\\ipykernel\\zmqshell.py\", line 549, in run_cell\n      return super().run_cell(*args, **kwargs)\n    File \"c:\\Users\\manis\\Anaconda3\\envs\\stt\\lib\\site-packages\\IPython\\core\\interactiveshell.py\", line 3046, in run_cell\n      result = self._run_cell(\n    File \"c:\\Users\\manis\\Anaconda3\\envs\\stt\\lib\\site-packages\\IPython\\core\\interactiveshell.py\", line 3101, in _run_cell\n      result = runner(coro)\n    File \"c:\\Users\\manis\\Anaconda3\\envs\\stt\\lib\\site-packages\\IPython\\core\\async_helpers.py\", line 129, in _pseudo_sync_runner\n      coro.send(None)\n    File \"c:\\Users\\manis\\Anaconda3\\envs\\stt\\lib\\site-packages\\IPython\\core\\interactiveshell.py\", line 3306, in run_cell_async\n      has_raised = await self.run_ast_nodes(code_ast.body, cell_name,\n    File \"c:\\Users\\manis\\Anaconda3\\envs\\stt\\lib\\site-packages\\IPython\\core\\interactiveshell.py\", line 3488, in run_ast_nodes\n      if await self.run_code(code, result, async_=asy):\n    File \"c:\\Users\\manis\\Anaconda3\\envs\\stt\\lib\\site-packages\\IPython\\core\\interactiveshell.py\", line 3548, in run_code\n      exec(code_obj, self.user_global_ns, self.user_ns)\n    File \"C:\\Users\\manis\\AppData\\Local\\Temp\\ipykernel_25784\\2438924376.py\", line 1, in <module>\n      history=model.fit(\n    File \"c:\\Users\\manis\\Anaconda3\\envs\\stt\\lib\\site-packages\\keras\\utils\\traceback_utils.py\", line 65, in error_handler\n      return fn(*args, **kwargs)\n    File \"c:\\Users\\manis\\Anaconda3\\envs\\stt\\lib\\site-packages\\keras\\engine\\training.py\", line 1564, in fit\n      tmp_logs = self.train_function(iterator)\n    File \"c:\\Users\\manis\\Anaconda3\\envs\\stt\\lib\\site-packages\\keras\\engine\\training.py\", line 1160, in train_function\n      return step_function(self, iterator)\n    File \"c:\\Users\\manis\\Anaconda3\\envs\\stt\\lib\\site-packages\\keras\\engine\\training.py\", line 1146, in step_function\n      outputs = model.distribute_strategy.run(run_step, args=(data,))\n    File \"c:\\Users\\manis\\Anaconda3\\envs\\stt\\lib\\site-packages\\keras\\engine\\training.py\", line 1135, in run_step\n      outputs = model.train_step(data)\n    File \"c:\\Users\\manis\\Anaconda3\\envs\\stt\\lib\\site-packages\\keras\\engine\\training.py\", line 993, in train_step\n      y_pred = self(x, training=True)\n    File \"c:\\Users\\manis\\Anaconda3\\envs\\stt\\lib\\site-packages\\keras\\utils\\traceback_utils.py\", line 65, in error_handler\n      return fn(*args, **kwargs)\n    File \"c:\\Users\\manis\\Anaconda3\\envs\\stt\\lib\\site-packages\\keras\\engine\\training.py\", line 557, in __call__\n      return super().__call__(*args, **kwargs)\n    File \"c:\\Users\\manis\\Anaconda3\\envs\\stt\\lib\\site-packages\\keras\\utils\\traceback_utils.py\", line 65, in error_handler\n      return fn(*args, **kwargs)\n    File \"c:\\Users\\manis\\Anaconda3\\envs\\stt\\lib\\site-packages\\keras\\engine\\base_layer.py\", line 1097, in __call__\n      outputs = call_fn(inputs, *args, **kwargs)\n    File \"c:\\Users\\manis\\Anaconda3\\envs\\stt\\lib\\site-packages\\keras\\utils\\traceback_utils.py\", line 96, in error_handler\n      return fn(*args, **kwargs)\n    File \"c:\\Users\\manis\\Anaconda3\\envs\\stt\\lib\\site-packages\\keras\\engine\\functional.py\", line 510, in call\n      return self._run_internal_graph(inputs, training=training, mask=mask)\n    File \"c:\\Users\\manis\\Anaconda3\\envs\\stt\\lib\\site-packages\\keras\\engine\\functional.py\", line 667, in _run_internal_graph\n      outputs = node.layer(*args, **kwargs)\n    File \"c:\\Users\\manis\\Anaconda3\\envs\\stt\\lib\\site-packages\\keras\\utils\\traceback_utils.py\", line 65, in error_handler\n      return fn(*args, **kwargs)\n    File \"c:\\Users\\manis\\Anaconda3\\envs\\stt\\lib\\site-packages\\keras\\engine\\base_layer.py\", line 1097, in __call__\n      outputs = call_fn(inputs, *args, **kwargs)\n    File \"c:\\Users\\manis\\Anaconda3\\envs\\stt\\lib\\site-packages\\keras\\utils\\traceback_utils.py\", line 96, in error_handler\n      return fn(*args, **kwargs)\n    File \"c:\\Users\\manis\\Anaconda3\\envs\\stt\\lib\\site-packages\\keras\\layers\\convolutional\\base_conv.py\", line 314, in call\n      return self.activation(outputs)\n    File \"c:\\Users\\manis\\Anaconda3\\envs\\stt\\lib\\site-packages\\keras\\activations.py\", line 317, in relu\n      return backend.relu(\n    File \"c:\\Users\\manis\\Anaconda3\\envs\\stt\\lib\\site-packages\\keras\\backend.py\", line 5366, in relu\n      x = tf.nn.relu(x)\nNode: 'DeepSpeech_2_Inspired/conv2d_1/Relu'\nDetected at node 'DeepSpeech_2_Inspired/conv2d_1/Relu' defined at (most recent call last):\n    File \"c:\\Users\\manis\\Anaconda3\\envs\\stt\\lib\\runpy.py\", line 196, in _run_module_as_main\n      return _run_code(code, main_globals, None,\n    File \"c:\\Users\\manis\\Anaconda3\\envs\\stt\\lib\\runpy.py\", line 86, in _run_code\n      exec(code, run_globals)\n    File \"c:\\Users\\manis\\Anaconda3\\envs\\stt\\lib\\site-packages\\ipykernel_launcher.py\", line 17, in <module>\n      app.launch_new_instance()\n    File \"c:\\Users\\manis\\Anaconda3\\envs\\stt\\lib\\site-packages\\traitlets\\config\\application.py\", line 1053, in launch_instance\n      app.start()\n    File \"c:\\Users\\manis\\Anaconda3\\envs\\stt\\lib\\site-packages\\ipykernel\\kernelapp.py\", line 737, in start\n      self.io_loop.start()\n    File \"c:\\Users\\manis\\Anaconda3\\envs\\stt\\lib\\site-packages\\tornado\\platform\\asyncio.py\", line 195, in start\n      self.asyncio_loop.run_forever()\n    File \"c:\\Users\\manis\\Anaconda3\\envs\\stt\\lib\\asyncio\\base_events.py\", line 603, in run_forever\n      self._run_once()\n    File \"c:\\Users\\manis\\Anaconda3\\envs\\stt\\lib\\asyncio\\base_events.py\", line 1909, in _run_once\n      handle._run()\n    File \"c:\\Users\\manis\\Anaconda3\\envs\\stt\\lib\\asyncio\\events.py\", line 80, in _run\n      self._context.run(self._callback, *self._args)\n    File \"c:\\Users\\manis\\Anaconda3\\envs\\stt\\lib\\site-packages\\ipykernel\\kernelbase.py\", line 524, in dispatch_queue\n      await self.process_one()\n    File \"c:\\Users\\manis\\Anaconda3\\envs\\stt\\lib\\site-packages\\ipykernel\\kernelbase.py\", line 513, in process_one\n      await dispatch(*args)\n    File \"c:\\Users\\manis\\Anaconda3\\envs\\stt\\lib\\site-packages\\ipykernel\\kernelbase.py\", line 418, in dispatch_shell\n      await result\n    File \"c:\\Users\\manis\\Anaconda3\\envs\\stt\\lib\\site-packages\\ipykernel\\kernelbase.py\", line 758, in execute_request\n      reply_content = await reply_content\n    File \"c:\\Users\\manis\\Anaconda3\\envs\\stt\\lib\\site-packages\\ipykernel\\ipkernel.py\", line 426, in do_execute\n      res = shell.run_cell(\n    File \"c:\\Users\\manis\\Anaconda3\\envs\\stt\\lib\\site-packages\\ipykernel\\zmqshell.py\", line 549, in run_cell\n      return super().run_cell(*args, **kwargs)\n    File \"c:\\Users\\manis\\Anaconda3\\envs\\stt\\lib\\site-packages\\IPython\\core\\interactiveshell.py\", line 3046, in run_cell\n      result = self._run_cell(\n    File \"c:\\Users\\manis\\Anaconda3\\envs\\stt\\lib\\site-packages\\IPython\\core\\interactiveshell.py\", line 3101, in _run_cell\n      result = runner(coro)\n    File \"c:\\Users\\manis\\Anaconda3\\envs\\stt\\lib\\site-packages\\IPython\\core\\async_helpers.py\", line 129, in _pseudo_sync_runner\n      coro.send(None)\n    File \"c:\\Users\\manis\\Anaconda3\\envs\\stt\\lib\\site-packages\\IPython\\core\\interactiveshell.py\", line 3306, in run_cell_async\n      has_raised = await self.run_ast_nodes(code_ast.body, cell_name,\n    File \"c:\\Users\\manis\\Anaconda3\\envs\\stt\\lib\\site-packages\\IPython\\core\\interactiveshell.py\", line 3488, in run_ast_nodes\n      if await self.run_code(code, result, async_=asy):\n    File \"c:\\Users\\manis\\Anaconda3\\envs\\stt\\lib\\site-packages\\IPython\\core\\interactiveshell.py\", line 3548, in run_code\n      exec(code_obj, self.user_global_ns, self.user_ns)\n    File \"C:\\Users\\manis\\AppData\\Local\\Temp\\ipykernel_25784\\2438924376.py\", line 1, in <module>\n      history=model.fit(\n    File \"c:\\Users\\manis\\Anaconda3\\envs\\stt\\lib\\site-packages\\keras\\utils\\traceback_utils.py\", line 65, in error_handler\n      return fn(*args, **kwargs)\n    File \"c:\\Users\\manis\\Anaconda3\\envs\\stt\\lib\\site-packages\\keras\\engine\\training.py\", line 1564, in fit\n      tmp_logs = self.train_function(iterator)\n    File \"c:\\Users\\manis\\Anaconda3\\envs\\stt\\lib\\site-packages\\keras\\engine\\training.py\", line 1160, in train_function\n      return step_function(self, iterator)\n    File \"c:\\Users\\manis\\Anaconda3\\envs\\stt\\lib\\site-packages\\keras\\engine\\training.py\", line 1146, in step_function\n      outputs = model.distribute_strategy.run(run_step, args=(data,))\n    File \"c:\\Users\\manis\\Anaconda3\\envs\\stt\\lib\\site-packages\\keras\\engine\\training.py\", line 1135, in run_step\n      outputs = model.train_step(data)\n    File \"c:\\Users\\manis\\Anaconda3\\envs\\stt\\lib\\site-packages\\keras\\engine\\training.py\", line 993, in train_step\n      y_pred = self(x, training=True)\n    File \"c:\\Users\\manis\\Anaconda3\\envs\\stt\\lib\\site-packages\\keras\\utils\\traceback_utils.py\", line 65, in error_handler\n      return fn(*args, **kwargs)\n    File \"c:\\Users\\manis\\Anaconda3\\envs\\stt\\lib\\site-packages\\keras\\engine\\training.py\", line 557, in __call__\n      return super().__call__(*args, **kwargs)\n    File \"c:\\Users\\manis\\Anaconda3\\envs\\stt\\lib\\site-packages\\keras\\utils\\traceback_utils.py\", line 65, in error_handler\n      return fn(*args, **kwargs)\n    File \"c:\\Users\\manis\\Anaconda3\\envs\\stt\\lib\\site-packages\\keras\\engine\\base_layer.py\", line 1097, in __call__\n      outputs = call_fn(inputs, *args, **kwargs)\n    File \"c:\\Users\\manis\\Anaconda3\\envs\\stt\\lib\\site-packages\\keras\\utils\\traceback_utils.py\", line 96, in error_handler\n      return fn(*args, **kwargs)\n    File \"c:\\Users\\manis\\Anaconda3\\envs\\stt\\lib\\site-packages\\keras\\engine\\functional.py\", line 510, in call\n      return self._run_internal_graph(inputs, training=training, mask=mask)\n    File \"c:\\Users\\manis\\Anaconda3\\envs\\stt\\lib\\site-packages\\keras\\engine\\functional.py\", line 667, in _run_internal_graph\n      outputs = node.layer(*args, **kwargs)\n    File \"c:\\Users\\manis\\Anaconda3\\envs\\stt\\lib\\site-packages\\keras\\utils\\traceback_utils.py\", line 65, in error_handler\n      return fn(*args, **kwargs)\n    File \"c:\\Users\\manis\\Anaconda3\\envs\\stt\\lib\\site-packages\\keras\\engine\\base_layer.py\", line 1097, in __call__\n      outputs = call_fn(inputs, *args, **kwargs)\n    File \"c:\\Users\\manis\\Anaconda3\\envs\\stt\\lib\\site-packages\\keras\\utils\\traceback_utils.py\", line 96, in error_handler\n      return fn(*args, **kwargs)\n    File \"c:\\Users\\manis\\Anaconda3\\envs\\stt\\lib\\site-packages\\keras\\layers\\convolutional\\base_conv.py\", line 314, in call\n      return self.activation(outputs)\n    File \"c:\\Users\\manis\\Anaconda3\\envs\\stt\\lib\\site-packages\\keras\\activations.py\", line 317, in relu\n      return backend.relu(\n    File \"c:\\Users\\manis\\Anaconda3\\envs\\stt\\lib\\site-packages\\keras\\backend.py\", line 5366, in relu\n      x = tf.nn.relu(x)\nNode: 'DeepSpeech_2_Inspired/conv2d_1/Relu'\n2 root error(s) found.\n  (0) RESOURCE_EXHAUSTED:  OOM when allocating tensor with shape[32,64,856,33] and type float on /job:localhost/replica:0/task:0/device:GPU:0 by allocator GPU_0_bfc\n\t [[{{node DeepSpeech_2_Inspired/conv2d_1/Relu}}]]\nHint: If you want to see a list of allocated tensors when OOM happens, add report_tensor_allocations_upon_oom to RunOptions for current allocation info. This isn't available when running in Eager mode.\n\n\t [[ctc_loss/Log/_58]]\nHint: If you want to see a list of allocated tensors when OOM happens, add report_tensor_allocations_upon_oom to RunOptions for current allocation info. This isn't available when running in Eager mode.\n\n  (1) RESOURCE_EXHAUSTED:  OOM when allocating tensor with shape[32,64,856,33] and type float on /job:localhost/replica:0/task:0/device:GPU:0 by allocator GPU_0_bfc\n\t [[{{node DeepSpeech_2_Inspired/conv2d_1/Relu}}]]\nHint: If you want to see a list of allocated tensors when OOM happens, add report_tensor_allocations_upon_oom to RunOptions for current allocation info. This isn't available when running in Eager mode.\n\n0 successful operations.\n0 derived errors ignored. [Op:__inference_train_function_17023]"
          ]
        }
      ],
      "source": [
        "history=model.fit(\n",
        "  train_dataset,\n",
        "  validation_data=val_dataset,\n",
        "  verbose=1,\n",
        "  epochs=10\n",
        ")"
      ]
    },
    {
      "cell_type": "markdown",
      "metadata": {
        "id": "KGHc6ncwNW-C"
      },
      "source": [
        "# Testing"
      ]
    },
    {
      "cell_type": "code",
      "execution_count": null,
      "metadata": {
        "id": "WUNf0LG7gtlT"
      },
      "outputs": [],
      "source": [
        "def get_spec_inference(filepath):\n",
        "\n",
        "  audio_binary=tf.io.read_file(filepath)\n",
        "  waveform=decode_audio(audio_binary)\n",
        "  waveform=tf.cast(waveform,tf.float32)\n",
        "\n",
        "  spectrogram=tf.signal.stft(\n",
        "      waveform,frame_length=FRAME_LENGTH,frame_step=FRAME_STEP)\n",
        "\n",
        "  spectrogram=tf.abs(spectrogram)\n",
        "\n",
        "  return tf.expand_dims(spectrogram,axis=-1)"
      ]
    },
    {
      "cell_type": "code",
      "execution_count": null,
      "metadata": {
        "id": "aE10DkdfeoAN"
      },
      "outputs": [],
      "source": [
        "test_path=\"LJ001-0005.wav\""
      ]
    },
    {
      "cell_type": "code",
      "execution_count": null,
      "metadata": {
        "id": "57aexKwMuvr1"
      },
      "outputs": [],
      "source": [
        "spectrogram=get_spec_inference(test_path)\n",
        "print(spectrogram.shape)\n",
        "out=tf.argmax(model.predict(tf.expand_dims(spectrogram,axis=0))[0],axis=1)"
      ]
    },
    {
      "cell_type": "code",
      "execution_count": null,
      "metadata": {
        "id": "FTu5nbtDuvuq"
      },
      "outputs": [],
      "source": [
        "out"
      ]
    },
    {
      "cell_type": "code",
      "execution_count": null,
      "metadata": {
        "id": "pwqGQJw_uvwr"
      },
      "outputs": [],
      "source": [
        "out_list=[vocabulary[i] if i!=31 else \"[LINK]\" for i in out]\n",
        "out_str=\"\".join(out_list)"
      ]
    },
    {
      "cell_type": "code",
      "execution_count": null,
      "metadata": {
        "id": "7-n6n4GMEARw"
      },
      "outputs": [],
      "source": [
        "print(out_str)"
      ]
    },
    {
      "cell_type": "code",
      "execution_count": null,
      "metadata": {
        "id": "kIgyYxwwuv3x"
      },
      "outputs": [],
      "source": [
        "def decode(y_pred):\n",
        "  batch_size=tf.shape(y_pred)[0]\n",
        "  print(tf.shape(y_pred))\n",
        "\n",
        "  pred_length=tf.shape(y_pred)[1]\n",
        "  pred_length*=tf.ones([batch_size,],dtype=tf.int32)\n",
        "\n",
        "  y_pred=tf.one_hot(y_pred,len(vocabulary)+1)\n",
        "  output=tf.keras.backend.ctc_decode(y_pred,input_length=pred_length,greedy=True)[0][0]\n",
        "\n",
        "  out=[vocabulary[i] for i in output[0]]\n",
        "  return ''.join(out)"
      ]
    },
    {
      "cell_type": "code",
      "execution_count": null,
      "metadata": {
        "id": "BLfEfiAAuv5z"
      },
      "outputs": [],
      "source": [
        "print(decode(tf.expand_dims(out,axis=0)))"
      ]
    },
    {
      "cell_type": "code",
      "execution_count": null,
      "metadata": {
        "id": "l5MkhQHYEXxT"
      },
      "outputs": [],
      "source": [
        "27 --->[0,0,0,0,0,0,0,0,0,0,0,0,0,0,0,0,0,0,0,0,0,0,0,0,0,0,0,0,1,0,0,0]\n",
        "15 --->[0,0,0,0,0,0,0,0,0,0,0,0,0,0,0,1,0,0,0,0,0,0,0,0,0,0,0,0,0,0,0,0]\n",
        "20 --->[0,0,0,0,0,0,0,0,0,0,0,0,0,0,0,0,0,0,0,0,0,1,0,0,0,0,0,0,0,0,0,0]\n",
        "7 --->[0,0,0,0,0,0,1,0,0,0,0,0,0,0,0,0,0,0,0,0,0,0,0,0,0,0,0,0,0,0,0,0]\n",
        "1 --->[0,1,0,0,0,0,0,0,0,0,0,0,0,0,0,0,0,0,0,0,0,0,0,0,0,0,0,0,0,0,0,0]\n",
        "0 --->[1,0,0,0,0,0,0,0,0,0,0,0,0,0,0,0,0,0,0,0,0,0,0,0,0,0,0,0,0,0,0,0]\n",
        "31 --->[0,0,0,0,0,0,0,0,0,0,0,0,0,0,0,0,0,0,0,0,0,0,0,0,0,0,0,0,0,0,0,1]\n",
        "15 --->[0,0,0,0,0,0,0,0,0,0,0,0,0,0,0,1,0,0,0,0,0,0,0,0,0,0,0,0,0,0,0,0]\n"
      ]
    }
  ],
  "metadata": {
    "accelerator": "GPU",
    "colab": {
      "provenance": []
    },
    "kernelspec": {
      "display_name": "Python 3",
      "name": "python3"
    },
    "language_info": {
      "codemirror_mode": {
        "name": "ipython",
        "version": 3
      },
      "file_extension": ".py",
      "mimetype": "text/x-python",
      "name": "python",
      "nbconvert_exporter": "python",
      "pygments_lexer": "ipython3",
      "version": "3.10.13"
    }
  },
  "nbformat": 4,
  "nbformat_minor": 0
}
